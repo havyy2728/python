{
 "cells": [
  {
   "cell_type": "markdown",
   "id": "e93e9770",
   "metadata": {},
   "source": [
    "https://pynative.com/python-basic-exercise-for-beginners/"
   ]
  },
  {
   "cell_type": "markdown",
   "id": "9740d8a4",
   "metadata": {},
   "source": [
    "# Exercise 1:"
   ]
  },
  {
   "cell_type": "markdown",
   "id": "358deb48",
   "metadata": {},
   "source": [
    " Given two integer numbers return their product. If the product is greater than 1000, then return their sum"
   ]
  },
  {
   "cell_type": "code",
   "execution_count": 3,
   "id": "2f98638d",
   "metadata": {},
   "outputs": [
    {
     "data": {
      "text/plain": [
       "600"
      ]
     },
     "execution_count": 3,
     "metadata": {},
     "output_type": "execute_result"
    }
   ],
   "source": [
    "def exercise_1(x,y):\n",
    "    if x*y < 1000:\n",
    "        return x*y\n",
    "    return (x + y)\n",
    "\n",
    "exercise_1(30, 40)"
   ]
  },
  {
   "cell_type": "markdown",
   "id": "17188458",
   "metadata": {},
   "source": [
    "# Exercise 2:\n",
    "Given a range of the first 10 numbers, Iterate from the start number to the end number, and In each iteration print the sum of the current number and previous number"
   ]
  },
  {
   "cell_type": "code",
   "execution_count": 9,
   "id": "83ce93e0",
   "metadata": {},
   "outputs": [
    {
     "name": "stdout",
     "output_type": "stream",
     "text": [
      "Current number is 0 and sum of current number and previous number is 0\n",
      "Current number is 1 and sum of current number and previous number is 1\n",
      "Current number is 2 and sum of current number and previous number is 3\n",
      "Current number is 3 and sum of current number and previous number is 5\n",
      "Current number is 4 and sum of current number and previous number is 7\n",
      "Current number is 5 and sum of current number and previous number is 9\n",
      "Current number is 6 and sum of current number and previous number is 11\n",
      "Current number is 7 and sum of current number and previous number is 13\n",
      "Current number is 8 and sum of current number and previous number is 15\n",
      "Current number is 9 and sum of current number and previous number is 17\n"
     ]
    }
   ],
   "source": [
    "def exercise_2():\n",
    "    for i in range(10):\n",
    "        if i == 0:\n",
    "            print(f'Current number is {i} and sum of current number and previous number is 0')\n",
    "        else:\n",
    "            print(f\"Current number is {i} and sum of current number and previous number is {i+i-1}\")\n",
    "    \n",
    "exercise_2()"
   ]
  },
  {
   "cell_type": "code",
   "execution_count": 139,
   "id": "ea7101e1",
   "metadata": {},
   "outputs": [
    {
     "name": "stdout",
     "output_type": "stream",
     "text": [
      "Current number is 0 and Sum is 0\n",
      "Current number is 1 and Sum is 1\n",
      "Current number is 2 and Sum is 3\n",
      "Current number is 3 and Sum is 5\n",
      "Current number is 4 and Sum is 7\n",
      "Current number is 5 and Sum is 9\n",
      "Current number is 6 and Sum is 11\n",
      "Current number is 7 and Sum is 13\n",
      "Current number is 8 and Sum is 15\n",
      "Current number is 9 and Sum is 17\n"
     ]
    }
   ],
   "source": [
    "def exercise_2_2():\n",
    "    previous = 0\n",
    "    for i in range(10):\n",
    "        result = i + previous\n",
    "        print(f'Current number is {i} and Sum is {result}')\n",
    "        previous = i\n",
    "        \n",
    "exercise_2_2()"
   ]
  },
  {
   "cell_type": "markdown",
   "id": "70b6b0d7",
   "metadata": {},
   "source": [
    "# Exercise 3: \n",
    "Given a string, display only those characters which are present at an even index number."
   ]
  },
  {
   "cell_type": "code",
   "execution_count": 13,
   "id": "33571897",
   "metadata": {},
   "outputs": [
    {
     "name": "stdout",
     "output_type": "stream",
     "text": [
      "v\n",
      "m\n",
      "s\n",
      "n\n",
      "e\n",
      "n\n"
     ]
    }
   ],
   "source": [
    "def exercise_3(str):\n",
    "    for i in range(len(str)):\n",
    "        if i % 2 != 0:\n",
    "            pass\n",
    "        else:\n",
    "            print(str[i])\n",
    "\n",
    "input_str = 'vcmdsknkejn'\n",
    "exercise_3(input_str)"
   ]
  },
  {
   "cell_type": "code",
   "execution_count": 142,
   "id": "527d208b",
   "metadata": {},
   "outputs": [
    {
     "name": "stdout",
     "output_type": "stream",
     "text": [
      "Feed me a string! cjsakjcfhfweiu\n",
      "cskchwi\n"
     ]
    }
   ],
   "source": [
    "def exercise_3_2():   \n",
    "    input_str = input('Feed me a string! ')\n",
    "    print(input_str[0::2], sep='\\n')\n",
    "    \n",
    "exercise_3_2()"
   ]
  },
  {
   "cell_type": "markdown",
   "id": "ae3ee0ca",
   "metadata": {},
   "source": [
    "# Exercise 4: \n",
    "Given a string and an integer number n, remove characters from a string starting from zero up to n and return a new string"
   ]
  },
  {
   "cell_type": "code",
   "execution_count": 18,
   "id": "522a9174",
   "metadata": {},
   "outputs": [
    {
     "data": {
      "text/plain": [
       "'njndefuenskj'"
      ]
     },
     "execution_count": 18,
     "metadata": {},
     "output_type": "execute_result"
    }
   ],
   "source": [
    "def exercise_4(str, n: int):\n",
    "    return str[n:]\n",
    "\n",
    "input_string = 'jafsnjndefuenskj'\n",
    "\n",
    "exercise_4(input_string, 4)"
   ]
  },
  {
   "cell_type": "markdown",
   "id": "2d983103",
   "metadata": {},
   "source": [
    "# Exercise 5: \n",
    "Given a list of numbers, return True if first and last number of a list is same"
   ]
  },
  {
   "cell_type": "code",
   "execution_count": 143,
   "id": "ff54bd38",
   "metadata": {},
   "outputs": [
    {
     "name": "stdout",
     "output_type": "stream",
     "text": [
      "True\n"
     ]
    }
   ],
   "source": [
    "def exercise_5(list):\n",
    "    if list[0] == list[-1]:\n",
    "        return True\n",
    "    else:\n",
    "        return False\n",
    "    \n",
    "input_list = [10,22,31,50,10]\n",
    "\n",
    "exercise_5(input_list)"
   ]
  },
  {
   "cell_type": "code",
   "execution_count": 144,
   "id": "4f330d17",
   "metadata": {},
   "outputs": [
    {
     "name": "stdout",
     "output_type": "stream",
     "text": [
      "True\n"
     ]
    }
   ],
   "source": [
    "def exercise_5_2(list):\n",
    "    print(list[0] == list[-1])\n",
    "    \n",
    "exercise_5_2(input_list)"
   ]
  },
  {
   "cell_type": "markdown",
   "id": "dbf251a9",
   "metadata": {},
   "source": [
    "# Exercise 6: \n",
    "Given a list of numbers, Iterate it and print only those numbers which are divisible of 5"
   ]
  },
  {
   "cell_type": "code",
   "execution_count": 24,
   "id": "fb829bcb",
   "metadata": {},
   "outputs": [
    {
     "name": "stdout",
     "output_type": "stream",
     "text": [
      "10\n",
      "50\n",
      "10\n"
     ]
    }
   ],
   "source": [
    "def exercise_6(list):\n",
    "    for i in list:\n",
    "        if i % 5 == 0: print(i)\n",
    "        \n",
    "exercise_6(input_list)"
   ]
  },
  {
   "cell_type": "code",
   "execution_count": 145,
   "id": "90f3e575",
   "metadata": {},
   "outputs": [
    {
     "name": "stdout",
     "output_type": "stream",
     "text": [
      "10\n",
      "50\n",
      "10\n"
     ]
    }
   ],
   "source": [
    "def exercise_6_2(list):\n",
    "    print(*[i for i in list if i % 5 == 0], sep = '\\n')\n",
    "    \n",
    "exercise_6_2(input_list)"
   ]
  },
  {
   "cell_type": "markdown",
   "id": "9ea4eb7e",
   "metadata": {},
   "source": [
    "# Exercise 7: \n",
    "Return the count of sub-string “Emma” appears in the given string"
   ]
  },
  {
   "cell_type": "code",
   "execution_count": 65,
   "id": "4a8e7b6f",
   "metadata": {},
   "outputs": [
    {
     "name": "stdout",
     "output_type": "stream",
     "text": [
      "Type your string here: havy is beautiful. havy is cute. Havy is smart.\n",
      "Type the sub string you want to counthavy\n",
      "havy appears 2 times in given string\n"
     ]
    }
   ],
   "source": [
    "def exercise_7():\n",
    "    given_string = input('Type your string here: ')\n",
    "    sub_string = input('Type the sub string you want to count')\n",
    "    i = given_string.count(sub_string)\n",
    "    print(f'{sub_string} appears {i} times in given string')\n",
    "\n",
    "exercise_7()"
   ]
  },
  {
   "cell_type": "code",
   "execution_count": 25,
   "id": "a84b0333",
   "metadata": {},
   "outputs": [
    {
     "name": "stdout",
     "output_type": "stream",
     "text": [
      "['__add__', '__class__', '__contains__', '__delattr__', '__dir__', '__doc__', '__eq__', '__format__', '__ge__', '__getattribute__', '__getitem__', '__getnewargs__', '__gt__', '__hash__', '__init__', '__init_subclass__', '__iter__', '__le__', '__len__', '__lt__', '__mod__', '__mul__', '__ne__', '__new__', '__reduce__', '__reduce_ex__', '__repr__', '__rmod__', '__rmul__', '__setattr__', '__sizeof__', '__str__', '__subclasshook__', 'capitalize', 'casefold', 'center', 'count', 'encode', 'endswith', 'expandtabs', 'find', 'format', 'format_map', 'index', 'isalnum', 'isalpha', 'isascii', 'isdecimal', 'isdigit', 'isidentifier', 'islower', 'isnumeric', 'isprintable', 'isspace', 'istitle', 'isupper', 'join', 'ljust', 'lower', 'lstrip', 'maketrans', 'partition', 'replace', 'rfind', 'rindex', 'rjust', 'rpartition', 'rsplit', 'rstrip', 'split', 'splitlines', 'startswith', 'strip', 'swapcase', 'title', 'translate', 'upper', 'zfill']\n"
     ]
    }
   ],
   "source": [
    "print(dir(str))"
   ]
  },
  {
   "cell_type": "markdown",
   "id": "0473bc01",
   "metadata": {},
   "source": [
    "# Exercise 8: \n",
    "Print the following pattern \\\n",
    "1 \\\\ \n",
    "2 2 \\\\\n",
    "3 3 3 \\\\\n",
    "4 4 4 4 \\\\\n",
    "5 5 5 5 5"
   ]
  },
  {
   "cell_type": "code",
   "execution_count": 44,
   "id": "cdf4fc34",
   "metadata": {},
   "outputs": [
    {
     "name": "stdout",
     "output_type": "stream",
     "text": [
      "1 \n",
      "2 2 \n",
      "3 3 3 \n",
      "4 4 4 4 \n",
      "5 5 5 5 5 \n"
     ]
    }
   ],
   "source": [
    "def exercise_8(n: int):\n",
    "    for i in range(1, n + 1):\n",
    "        print(f'{i} '*i)\n",
    "        \n",
    "exercise_8(5)"
   ]
  },
  {
   "cell_type": "code",
   "execution_count": 33,
   "id": "233b9277",
   "metadata": {},
   "outputs": [
    {
     "name": "stdout",
     "output_type": "stream",
     "text": [
      "['__abs__', '__add__', '__and__', '__bool__', '__ceil__', '__class__', '__delattr__', '__dir__', '__divmod__', '__doc__', '__eq__', '__float__', '__floor__', '__floordiv__', '__format__', '__ge__', '__getattribute__', '__getnewargs__', '__gt__', '__hash__', '__index__', '__init__', '__init_subclass__', '__int__', '__invert__', '__le__', '__lshift__', '__lt__', '__mod__', '__mul__', '__ne__', '__neg__', '__new__', '__or__', '__pos__', '__pow__', '__radd__', '__rand__', '__rdivmod__', '__reduce__', '__reduce_ex__', '__repr__', '__rfloordiv__', '__rlshift__', '__rmod__', '__rmul__', '__ror__', '__round__', '__rpow__', '__rrshift__', '__rshift__', '__rsub__', '__rtruediv__', '__rxor__', '__setattr__', '__sizeof__', '__str__', '__sub__', '__subclasshook__', '__truediv__', '__trunc__', '__xor__', 'as_integer_ratio', 'bit_length', 'conjugate', 'denominator', 'from_bytes', 'imag', 'numerator', 'real', 'to_bytes']\n"
     ]
    }
   ],
   "source": [
    "print(dir(int))"
   ]
  },
  {
   "cell_type": "markdown",
   "id": "6101e0ea",
   "metadata": {},
   "source": [
    "# Exercise 9: \n",
    "Reverse a given number and return true if it is the same as the original number"
   ]
  },
  {
   "cell_type": "code",
   "execution_count": 61,
   "id": "56659f57",
   "metadata": {},
   "outputs": [
    {
     "data": {
      "text/plain": [
       "True"
      ]
     },
     "execution_count": 61,
     "metadata": {},
     "output_type": "execute_result"
    }
   ],
   "source": [
    "def exercise_9(int):\n",
    "    str_int = str(int)\n",
    "    for i in range(len(str_int)):\n",
    "        if str_int[i] != str_int[-i-1]:\n",
    "            return False\n",
    "        else:\n",
    "            return True\n",
    "    \n",
    "\n",
    "input_int = 1223221\n",
    "exercise_9(input_int)"
   ]
  },
  {
   "cell_type": "markdown",
   "id": "66898187",
   "metadata": {},
   "source": [
    "# Exercise 10: \n",
    "Given a two list of numbers create a new list such that new list should contain only odd numbers from the first list and even numbers from the second list"
   ]
  },
  {
   "cell_type": "code",
   "execution_count": 63,
   "id": "8ae66522",
   "metadata": {},
   "outputs": [
    {
     "data": {
      "text/plain": [
       "[1, 3, 4, 6]"
      ]
     },
     "execution_count": 63,
     "metadata": {},
     "output_type": "execute_result"
    }
   ],
   "source": [
    "def exercise_10(list1: list, list2: list):\n",
    "    result = []\n",
    "    for i in list1:\n",
    "        if i % 2 != 0:\n",
    "            result.append(i)\n",
    "    for i in list2:\n",
    "        if i % 2 == 0:\n",
    "            result.append(i)\n",
    "    return result\n",
    "\n",
    "list1 = [1,2,3]\n",
    "list2 = [4,5,6,7]\n",
    "\n",
    "exercise_10(list1, list2)"
   ]
  },
  {
   "cell_type": "markdown",
   "id": "5e7db87a",
   "metadata": {},
   "source": [
    "# Exercise 11: \n",
    "Write a code to extract each digit from an integer, in the reverse order"
   ]
  },
  {
   "cell_type": "code",
   "execution_count": 97,
   "id": "2a7103bb",
   "metadata": {},
   "outputs": [
    {
     "name": "stdout",
     "output_type": "stream",
     "text": [
      "5 4 3 2 1\n"
     ]
    }
   ],
   "source": [
    "def exercise_11(input_int: int):\n",
    "    string = str(input_int)\n",
    "    digits = [int(i) for i in string]\n",
    "    digits.reverse()\n",
    "    result = str(digits).replace('[','').replace(']','').replace(',','')\n",
    "    print(result)\n",
    "\n",
    "exercise_11(12345)"
   ]
  },
  {
   "cell_type": "code",
   "execution_count": 157,
   "id": "84647325",
   "metadata": {},
   "outputs": [
    {
     "name": "stdout",
     "output_type": "stream",
     "text": [
      "5  4  3  2  1\n"
     ]
    }
   ],
   "source": [
    "def exercise_11_2(n: int):\n",
    "    result = [int(i) for i in str(n)]\n",
    "    print(*reversed(result), sep = '  ')\n",
    "    \n",
    "exercise_11_2(12345)"
   ]
  },
  {
   "cell_type": "markdown",
   "id": "8bb2aeb7",
   "metadata": {},
   "source": [
    "*list --> unpack the list, sep = \"separation option\" (optional, it can be '\\n' (xuong dong, cach 1 dong), '\\t'(xuong dong),...)"
   ]
  },
  {
   "cell_type": "markdown",
   "id": "5cb7d481",
   "metadata": {},
   "source": [
    "# Exercise 12: \n",
    "Calculate income tax for the given income by adhering to the below rules: \n",
    "Taxable Income\tRate (in %) \n",
    "\n",
    "First $10,000\t0 \n"
   ]
  },
  {
   "cell_type": "markdown",
   "id": "7ba11396",
   "metadata": {},
   "source": [
    "Next $10,000\t10"
   ]
  },
  {
   "cell_type": "markdown",
   "id": "fd778357",
   "metadata": {},
   "source": [
    "The remaining\t20 "
   ]
  },
  {
   "cell_type": "code",
   "execution_count": 103,
   "id": "3bad251b",
   "metadata": {},
   "outputs": [
    {
     "data": {
      "text/plain": [
       "8000.0"
      ]
     },
     "execution_count": 103,
     "metadata": {},
     "output_type": "execute_result"
    }
   ],
   "source": [
    "def exercise_12(income: int):\n",
    "    if income <= 10000:\n",
    "        tax = 0\n",
    "    elif income <= 20000:\n",
    "        tax = income * 10 / 100\n",
    "    else: tax = 20000*10 / 100  + (income-20000)*20 / 100\n",
    "    return tax\n",
    "\n",
    "exercise_12(income = 50000)\n",
    "    "
   ]
  },
  {
   "cell_type": "markdown",
   "id": "6a7e60d8",
   "metadata": {},
   "source": [
    "# Exercise 13: \n",
    "Print multiplication table form 1 to 10 (bang cuu chuong)"
   ]
  },
  {
   "cell_type": "code",
   "execution_count": 119,
   "id": "9d3c2539",
   "metadata": {},
   "outputs": [
    {
     "name": "stdout",
     "output_type": "stream",
     "text": [
      "1 2 3 4 5 6 7 8 9 10 \t\n",
      "2 4 6 8 10 12 14 16 18 20 \t\n",
      "3 6 9 12 15 18 21 24 27 30 \t\n",
      "4 8 12 16 20 24 28 32 36 40 \t\n",
      "5 10 15 20 25 30 35 40 45 50 \t\n",
      "6 12 18 24 30 36 42 48 54 60 \t\n",
      "7 14 21 28 35 42 49 56 63 70 \t\n",
      "8 16 24 32 40 48 56 64 72 80 \t\n",
      "9 18 27 36 45 54 63 72 81 90 \t\n",
      "10 20 30 40 50 60 70 80 90 100 \t\n"
     ]
    }
   ],
   "source": [
    "def exercise_13(): \n",
    "    for i in range(1,11):\n",
    "        for j in range(1,11):\n",
    "            print (i*j, end = ' ')\n",
    "        print(\"\\t\") # hết mỗi vòng lặp của i thì xuống dòng 1 lần\n",
    "exercise_13()"
   ]
  },
  {
   "cell_type": "code",
   "execution_count": 122,
   "id": "57df0303",
   "metadata": {},
   "outputs": [
    {
     "name": "stdout",
     "output_type": "stream",
     "text": [
      "[9, 8, 7, 6, 5, 4, 3, 2, 1, 0]\n"
     ]
    }
   ],
   "source": [
    "print([i for i in range(10)][::-1])"
   ]
  },
  {
   "cell_type": "markdown",
   "id": "68ea4412",
   "metadata": {},
   "source": [
    "# Exercise 14: \n",
    "Print downward Half-Pyramid Pattern with Star (asterisk)"
   ]
  },
  {
   "cell_type": "code",
   "execution_count": 131,
   "id": "182bffeb",
   "metadata": {},
   "outputs": [
    {
     "name": "stdout",
     "output_type": "stream",
     "text": [
      "* * * * * * * * \n",
      "* * * * * * * \n",
      "* * * * * * \n",
      "* * * * * \n",
      "* * * * \n",
      "* * * \n",
      "* * \n",
      "* \n"
     ]
    }
   ],
   "source": [
    "def exercise_14(n: int):\n",
    "    for i in range(n,0,-1):\n",
    "        print('* ' *i)\n",
    "        \n",
    "exercise_14(8)"
   ]
  },
  {
   "cell_type": "code",
   "execution_count": 154,
   "id": "7b1ea73b",
   "metadata": {},
   "outputs": [
    {
     "name": "stdout",
     "output_type": "stream",
     "text": [
      "* * * * * * * * \n",
      "* * * * * * * \n",
      "* * * * * * \n",
      "* * * * * \n",
      "* * * * \n",
      "* * * \n",
      "* * \n",
      "* \n"
     ]
    }
   ],
   "source": [
    "def exercise_14_2(n: int):\n",
    "    for i in range(n):\n",
    "        print('* ' * (n-i+1))\n",
    "        \n",
    "exercise_14(8)"
   ]
  },
  {
   "cell_type": "markdown",
   "id": "2e67e506",
   "metadata": {},
   "source": [
    "### Reverse a list\n",
    "Phương thức list.reverse() nhanh, rõ ràng. Nếu trong trường hợp của bạn, việc đảo ngược bản thân list ban đầu là chấp nhận được, hãy chọn cách này.\n",
    "\n",
    "Nếu điều đó là không chấp nhận được, hãy sử dụng reversed()."
   ]
  },
  {
   "cell_type": "markdown",
   "id": "b4bebb83",
   "metadata": {},
   "source": [
    "# Exercise 15: \n",
    "Write a function called exponent(base, exp) that returns an int value of base raises to the power of exp."
   ]
  },
  {
   "cell_type": "code",
   "execution_count": 134,
   "id": "c2fc4286",
   "metadata": {},
   "outputs": [
    {
     "data": {
      "text/plain": [
       "243"
      ]
     },
     "execution_count": 134,
     "metadata": {},
     "output_type": "execute_result"
    }
   ],
   "source": [
    "def exercise_15(base,exp):\n",
    "    return base**exp\n",
    "\n",
    "exercise_15(3,5)"
   ]
  },
  {
   "cell_type": "code",
   "execution_count": null,
   "id": "8f965c6d",
   "metadata": {},
   "outputs": [],
   "source": []
  }
 ],
 "metadata": {
  "kernelspec": {
   "display_name": "Python 3",
   "language": "python",
   "name": "python3"
  },
  "language_info": {
   "codemirror_mode": {
    "name": "ipython",
    "version": 3
   },
   "file_extension": ".py",
   "mimetype": "text/x-python",
   "name": "python",
   "nbconvert_exporter": "python",
   "pygments_lexer": "ipython3",
   "version": "3.8.8"
  }
 },
 "nbformat": 4,
 "nbformat_minor": 5
}
